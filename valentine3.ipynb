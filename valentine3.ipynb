{
 "cells": [
  {
   "cell_type": "code",
   "execution_count": 21,
   "metadata": {},
   "outputs": [],
   "source": [
    "import requests\n",
    "import re\n",
    "import pandas as pd\n",
    "\n",
    "r = requests.get(\"https://www.wishesquotes.com/love/100-valentines-day-quotes-for-him#Romantic_Valentines_Day_Love_Messages_for_Him\").text\n",
    "\n",
    "pattern = re.compile(r'<li>(.*?)</li>')\n",
    "\n",
    "matches = pattern.finditer(r)\n",
    "\n",
    "d = {\"romantic valentine quotes\":[]}\n",
    "for match in matches:\n",
    "    q = match.group(1)    \n",
    "    q = re.sub('<.*?>','',q,flags=re.S)\n",
    "    d[\"romantic valentine quotes\"].append(q)\n",
    "    \n",
    "df = pd.DataFrame(d)\n",
    "df.to_excel('valentine3.xlsx', index=False)"
   ]
  },
  {
   "cell_type": "code",
   "execution_count": null,
   "metadata": {},
   "outputs": [],
   "source": []
  }
 ],
 "metadata": {
  "kernelspec": {
   "display_name": "Python 3",
   "language": "python",
   "name": "python3"
  },
  "language_info": {
   "codemirror_mode": {
    "name": "ipython",
    "version": 3
   },
   "file_extension": ".py",
   "mimetype": "text/x-python",
   "name": "python",
   "nbconvert_exporter": "python",
   "pygments_lexer": "ipython3",
   "version": "3.7.4"
  }
 },
 "nbformat": 4,
 "nbformat_minor": 2
}
