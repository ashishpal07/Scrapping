{
 "cells": [
  {
   "cell_type": "code",
   "execution_count": 12,
   "metadata": {},
   "outputs": [],
   "source": [
    "import requests\n",
    "import re\n",
    "import pandas as pd\n",
    "\n",
    "url = \"https://www.homemade-gifts-made-easy.com/love-quotes-for-her.html\"\n",
    "quotes = [] \n",
    "\n",
    "r = requests.get(url).text\n",
    "quote = re.compile(r'<p class=\"poem-left\">[\\n|\\r]\\s+(.*?)\\n\\s+<')\n",
    "matches = quote.finditer(r) \n",
    "for match in matches:\n",
    "    quotes.append(match.group(1))\n",
    "    \n",
    "df = pd.DataFrame({'Best Love Quotes':quotes})\n",
    "df.to_excel('BestLoveQuotes.xlsx', index=False)"
   ]
  },
  {
   "cell_type": "code",
   "execution_count": null,
   "metadata": {},
   "outputs": [],
   "source": []
  }
 ],
 "metadata": {
  "kernelspec": {
   "display_name": "Python 3",
   "language": "python",
   "name": "python3"
  },
  "language_info": {
   "codemirror_mode": {
    "name": "ipython",
    "version": 3
   },
   "file_extension": ".py",
   "mimetype": "text/x-python",
   "name": "python",
   "nbconvert_exporter": "python",
   "pygments_lexer": "ipython3",
   "version": "3.7.4"
  }
 },
 "nbformat": 4,
 "nbformat_minor": 2
}
