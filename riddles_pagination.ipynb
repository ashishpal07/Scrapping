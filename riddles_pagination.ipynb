{
 "cells": [
  {
   "cell_type": "code",
   "execution_count": 16,
   "metadata": {},
   "outputs": [],
   "source": [
    "import requests\n",
    "import re\n",
    "import json\n",
    "\n",
    "for page in range(1,30):\n",
    "    r = requests.get(f'https://www.riddles.com/riddles?page={page}').text\n",
    "\n",
    "    ques = re.findall('\\s*<b>Riddle:</b><.*?><.*?><p>(.*?)</p></blockquote>', r, re.S)\n",
    "\n",
    "    ans = re.findall('<b>Answer:</b>\\s*<.*?><p>(.+?)<', r, re.S)\n",
    "\n",
    "    for i in range(len(ques)):\n",
    "        ans[i] = re.sub('an\\s|the\\s|a\\s|<strong>Solution #1 - ', '', ans[i], flags=re.S|re.IGNORECASE).strip()\n",
    "        ques[i] = re.sub('<.*?>|\\|&rsquo;|&nbsp;', '', ques[i], flags=re.S).strip()\n",
    "\n",
    "    data = dict(zip(ques, ans))\n",
    "    \n",
    "    \n",
    "    with open('riddles_pagination.json', 'a', encoding='utf-8') as f:\n",
    "        json.dump(data, f, indent=4, ensure_ascii=False)\n",
    "\n",
    "\n"
   ]
  },
  {
   "cell_type": "markdown",
   "metadata": {},
   "source": [
    "# for automatic pagination"
   ]
  },
  {
   "cell_type": "raw",
   "metadata": {},
   "source": [
    "import requests\n",
    "import re\n",
    "import json\n",
    "\n",
    "page=1\n",
    "while(int(page)<5):\n",
    "    r = requests.get(f'https://www.riddles.com/riddles?page={page}').text\n",
    "\n",
    "    ques = re.findall('\\s*<b>Riddle:</b><.?><.?><p>(.*?)</p></blockquote>', r, re.S)\n",
    "\n",
    "    ans = re.findall('<b>Answer:</b>\\s*<.*?><p>(.+?)<', r, re.S)\n",
    "\n",
    "    for i in range(len(ques)):\n",
    "        ans[i] = re.sub('an\\s|the\\s|a\\s|<strong>Solution #1 - ', '', ans[i], flags=re.S|re.IGNORECASE).strip()\n",
    "        ques[i] = re.sub('<.*?>|\\|&rsquo;|&nbsp;', '', ques[i], flags=re.S).strip()\n",
    "\n",
    "    data = dict(zip(ques, ans))\n",
    "    \n",
    "    page = re.search('rel=\"next\"\\s*href=\".?page=(.?)\"\\s*/>',r).group(1)\n",
    "    \n",
    "    with open('riddles_pagination.json', 'a', encoding='utf-8') as f:\n",
    "        json.dump(data, f, indent=4, ensure_ascii=False)"
   ]
  }
 ],
 "metadata": {
  "kernelspec": {
   "display_name": "Python 3",
   "language": "python",
   "name": "python3"
  },
  "language_info": {
   "codemirror_mode": {
    "name": "ipython",
    "version": 3
   },
   "file_extension": ".py",
   "mimetype": "text/x-python",
   "name": "python",
   "nbconvert_exporter": "python",
   "pygments_lexer": "ipython3",
   "version": "3.7.4"
  }
 },
 "nbformat": 4,
 "nbformat_minor": 2
}
