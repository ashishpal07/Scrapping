{
 "cells": [
  {
   "cell_type": "code",
   "execution_count": 21,
   "metadata": {},
   "outputs": [],
   "source": [
    "import re\n",
    "import requests\n",
    "\n",
    "url = 'https://parenting.firstcry.com/articles/100-pleasant-and-cute-love-quotes-for-husband/'\n",
    "r = requests.get(url).text\n",
    "\n",
    "pattern  = re.compile(r'<p>\\d+\\.(.*?)<')\n",
    "\n",
    "matches = pattern.finditer(r)\n",
    "\n",
    "for match in matches:\n",
    "    match.group(1)\n",
    "\n",
    "\n",
    "\n"
   ]
  },
  {
   "cell_type": "raw",
   "metadata": {},
   "source": [
    "import requests\n",
    "from bs4 import BeautifulSoup\n",
    "import re\n",
    "\n",
    "r = requests.get('https://www.luvze.com/cute-romantic-love-quotes-for-him/')\n",
    "soup = BeautifulSoup(r.text, \"html.parser\")\n",
    "pattern =re.compile(r'[\\\"](font-weight:)\\s+(\\d+;)[\\\"](>)[\\n|\\r]\\s+[0-9]+\\.\\s+(.*)')\n",
    "with open(\"luvze.txt\",\"w\",encoding='utf-8') as file:\n",
    "    file.write(soup.prettify())\n",
    "\n",
    "with open(\"luvze.txt\",\"r\",encoding='utf-8') as fi:\n",
    "    content = fi.read()\n",
    "    match = pattern.finditer(content)\n",
    "    #for matches in match:\n",
    "    #    print(matches.group(7))\n",
    "    for matches in match:\n",
    "        print(matches.group(4))"
   ]
  }
 ],
 "metadata": {
  "kernelspec": {
   "display_name": "Python 3",
   "language": "python",
   "name": "python3"
  },
  "language_info": {
   "codemirror_mode": {
    "name": "ipython",
    "version": 3
   },
   "file_extension": ".py",
   "mimetype": "text/x-python",
   "name": "python",
   "nbconvert_exporter": "python",
   "pygments_lexer": "ipython3",
   "version": "3.7.4"
  }
 },
 "nbformat": 4,
 "nbformat_minor": 2
}
