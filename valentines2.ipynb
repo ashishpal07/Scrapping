{
 "cells": [
  {
   "cell_type": "code",
   "execution_count": 6,
   "metadata": {},
   "outputs": [],
   "source": [
    "import requests\n",
    "import re\n",
    "import pandas as pd\n",
    "\n",
    "r = requests.get(\"https://truelovewords.com/valentines-day-love-messages-and-quotes-for-him/\").text\n",
    "\n",
    "pattern = re.compile(r'<li><.*?>.*?</span>\\s*(.*?)</li>')\n",
    "matches = pattern.finditer(r)\n",
    "\n",
    "d = {'valentines quotes for him':[]}\n",
    "for match in matches:\n",
    "    q = match.group(1)\n",
    "    d[\"valentines quotes for him\"].append(q)\n",
    "    \n",
    "df = pd.DataFrame(d)\n",
    "df.to_excel('valentines2.xlsx', index=False)\n",
    "    "
   ]
  },
  {
   "cell_type": "code",
   "execution_count": null,
   "metadata": {},
   "outputs": [],
   "source": []
  }
 ],
 "metadata": {
  "kernelspec": {
   "display_name": "Python 3",
   "language": "python",
   "name": "python3"
  },
  "language_info": {
   "codemirror_mode": {
    "name": "ipython",
    "version": 3
   },
   "file_extension": ".py",
   "mimetype": "text/x-python",
   "name": "python",
   "nbconvert_exporter": "python",
   "pygments_lexer": "ipython3",
   "version": "3.7.4"
  }
 },
 "nbformat": 4,
 "nbformat_minor": 2
}
