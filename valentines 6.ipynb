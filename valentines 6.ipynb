{
 "cells": [
  {
   "cell_type": "code",
   "execution_count": 15,
   "metadata": {},
   "outputs": [],
   "source": [
    "import requests\n",
    "import re\n",
    "import pandas as pd\n",
    "\n",
    "r = requests.get(\"https://afamuche.com/1000-love-quotes-to-fan-the-flame-of-love/\").text\n",
    "\n",
    "pattern = re.compile(r'<p>\\d+.(.*?)[—|-]')\n",
    "        \n",
    "matches = pattern.finditer(r)\n",
    "\n",
    "d = {'valentines quotes for her':[]}\n",
    "n = 0\n",
    "for match in matches:\n",
    "    n += 1\n",
    "    quotes = match.group(1)\n",
    "    quotes = re.sub('<.*?>|&nbsp;|&#8221;|&#8220;|&#8230;|“|”',\"\", quotes, flags=re.S).strip()\n",
    "    quotes = re.sub('&#8217;',\"'\",quotes, flags=re.S)\n",
    "    d['valentines quotes for her'].append(quotes)\n",
    "    \n",
    "df = pd.DataFrame(d)\n",
    "df.to_excel('valentine for her 7.xlsx',index=False)\n",
    "    \n",
    "    "
   ]
  },
  {
   "cell_type": "code",
   "execution_count": null,
   "metadata": {},
   "outputs": [],
   "source": []
  }
 ],
 "metadata": {
  "kernelspec": {
   "display_name": "Python 3",
   "language": "python",
   "name": "python3"
  },
  "language_info": {
   "codemirror_mode": {
    "name": "ipython",
    "version": 3
   },
   "file_extension": ".py",
   "mimetype": "text/x-python",
   "name": "python",
   "nbconvert_exporter": "python",
   "pygments_lexer": "ipython3",
   "version": "3.7.4"
  }
 },
 "nbformat": 4,
 "nbformat_minor": 2
}
