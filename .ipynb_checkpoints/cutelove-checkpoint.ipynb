{
 "cells": [
  {
   "cell_type": "code",
   "execution_count": 64,
   "metadata": {},
   "outputs": [
    {
     "name": "stdout",
     "output_type": "stream",
     "text": [
      "['You are the source of my joy, the center of my world and the whole of my heart.', 'When I tell you I love you, I am not saying it out of habit, I am reminding you that you are my life.', \"I don't need paradise because I found you. I don't need dreams because I already have you.\", 'You are the last thought in my mind before I drift off to sleep and the first thought when I wake up each morning.', 'Everywhere I look I am reminded of your love. You are my world.', \"Love is not about how many days, weeks or months you've been together, it's all about how much you love each other every day.\", 'If I know what love is, it is because of you. -Hermann Hesse', 'You are my paradise and I would happily get stranded on you for a lifetime. (A very cute love quote for him.)', \"I can't stop thinking about you, today... tomorrow... always.\", \"When I look into your eyes I see the mirror of my soul. (Now, that's a love quote for him from the heart!)\", 'This is all I want to do with you forever.', 'Thank you for always being my rainbow after the storm.', 'I am so totally, completely, overwhelmingly, eye-poppingly, life-changingly, spectacularly, passionately, deliciously in love with you.', 'God is keeping me alive but you are keeping me in love.', \"My angel, my life, my entire world, you're the one that I want, the one that I need, let me be with you always, my love, my everything.\", 'This morning I awoke and was reminded of the preciousness of life. I realized I should express my gratitude to those who are so very important to me. Thank you for all you have done and have a great day!', 'I love you every step of the way.', \"Walk with me through life...and I'll have everything I'll need for the journey.\", 'I may not be your first date, kiss or love...but I want to be your last everything.', 'The best feeling is when you look at him...and he is already staring.', 'And then my soul saw you and it kind of went, \"Oh, there you are. I\\'ve been looking all over for you.\" (One of the most romantic love quotes for him)', 'Together with you is my favorite place to be.', 'Good morning my love, our two souls aflame, with my man I feel two hearts beat the same.', 'I am very indecisive and always have trouble picking my favorite anything. But, without a doubt, you are my favorite everything.', 'I still fall in love with you every day! (One of the best short love quotes for him)', 'The sun is up, the sky is blue, today is beautiful and so are you.', 'Thank you, my love, for always making me feel like the most beautiful woman in the world.', 'Thank God someone threw me away so you could pick me up and love me.', 'If I had a flower for every time I thought of you, I could walk in my garden forever. -Alfred Lord Tennyson']\n"
     ]
    }
   ],
   "source": [
    "# for making content smaller\n",
    "#r = requests.get('https://www.codeofliving.com/blog/55-powerful-short-quotes-sayings-life/').text\n",
    "#r = re.search(\"class='code-block code-block-2'(.*?)id=\\\"tve_leads_end_content\\\"\", r, re.S).group(1)\n",
    "\n",
    "import requests\n",
    "import re\n",
    "import pandas as p\n",
    "\n",
    "r = requests.get(\"https://www.huffpost.com/entry/35-cute-love-quotes-for-him-from-the-heart_b_8471080\", headers={'User-Agent':'Mozilla/5.0 (Windows NT 10.0; Win64; x64) AppleWebKit/537.36 (KHTML, like Gecko) Chrome/86.0.4240.111 Safari/537.36'}).text\n",
    "r = re.search('HuffPost Life(.*?)In my opinion, one of the most beautiful love quotes for him', r, re.S).group(1)\n",
    "quotes = []\n",
    "for i in r.split('<br>')[1:]:\n",
    "    quote = re.search('\\d+\\.(.*?)<',i)\n",
    "    if quote: \n",
    "        quote = quote.group(1).strip()\n",
    "        quotes.append(quote)\n",
    "print(quotes)\n",
    "\n",
    "\n",
    "    \n",
    "\n",
    "\n",
    "\n",
    "    \n",
    "            \n",
    "                  \n",
    "    \n",
    "    \n"
   ]
  },
  {
   "cell_type": "raw",
   "metadata": {},
   "source": [
    "# import requests  # for fetching data\n",
    "# import re  # for string operations\n",
    "# import pandas as pd  # for creating excel\n",
    "# # Fetching source page\n",
    "# r = requests.get('https://www.codeofliving.com/blog/55-powerful-short-quotes-sayings-life/').text\n",
    "# r = r.split('<li>')\n",
    "# quotes = []\n",
    "# for i in r[1:]:\n",
    "#     # () => Capture and group\n",
    "#     # . => Any character (except newline character)\n",
    "#     # * 0 or more, ? 1 or more\n",
    "#     quote = re.search('(.*?)<', i, re.S)  # returns an object\n",
    "#     if quote:\n",
    "#         # using group to convert the object to string\n",
    "#         quote = quote.group(1).replace('–', '').strip()\n",
    "#     # skipping garbage value\n",
    "#     if not re.search('[a-zA-Z]', quote):\n",
    "#         continue\n",
    "#     quotes.append(quote)\n",
    "# df = pd.DataFrame({'Life Quotes': quotes})\n",
    "# df.to_excel('55-powerful-short-quotes-sayings-life.xlsx', index=False)\n",
    "# df\n",
    "\n",
    "\n",
    "\n",
    "\n",
    "\n",
    "# import requests\n",
    "# import re\n",
    "# import pandas as pd\n",
    "# r = requests.get('https://www.codeofliving.com/blog/55-powerful-short-quotes-sayings-life/').text\n",
    "# r = r.split('<li>')\n",
    "# cnt = 1\n",
    "# quotes = []\n",
    "# for i in r:# for i in r[1:]:\n",
    "#     quote = re.search('(.*?)<', i, re.S)\n",
    "    #if quote:\n",
    "        #quote = quote.group(1).replace('–', '').strip()\n",
    "#     if not re.search('[a-zA-Z]', quote):\n",
    "#         continue\n",
    "#     # print(cnt, quote)\n",
    "#     quotes.append(quote)\n",
    "#     cnt += 1\n",
    "# df = pd.DataFrame({'Life Quotes': quotes})\n",
    "# df.to_excel('55-powerful-short-quotes-sayings-life.xlsx', index=False)\n",
    "# for l in quotes:\n",
    "#     print(l.group(1))\n",
    "\n",
    "\n",
    "\n",
    "\n"
   ]
  },
  {
   "cell_type": "code",
   "execution_count": null,
   "metadata": {},
   "outputs": [],
   "source": []
  }
 ],
 "metadata": {
  "kernelspec": {
   "display_name": "Python 3",
   "language": "python",
   "name": "python3"
  },
  "language_info": {
   "codemirror_mode": {
    "name": "ipython",
    "version": 3
   },
   "file_extension": ".py",
   "mimetype": "text/x-python",
   "name": "python",
   "nbconvert_exporter": "python",
   "pygments_lexer": "ipython3",
   "version": "3.7.4"
  }
 },
 "nbformat": 4,
 "nbformat_minor": 2
}
