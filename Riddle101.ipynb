{
 "cells": [
  {
   "cell_type": "code",
   "execution_count": 47,
   "metadata": {},
   "outputs": [],
   "source": [
    "import requests\n",
    "import re\n",
    "import json\n",
    "\n",
    "data = {}\n",
    "\n",
    "r = requests.get('https://parade.com/947956/parade/riddles/').text\n",
    "\n",
    "for i in r.split('<p><b>')[1:]:\n",
    "    i = i.replace('<br>', '')\n",
    "    ques = re.search('</b>\\s*(.*?)Answer', i, re.S).group(1)\n",
    "    ans = re.search('Answer.*?>(.*?)</p>', i, re.S).group(1)\n",
    "    \n",
    "    ques = re.sub('<.*?>|:\\s', '', ques, flags=re.S)\n",
    "    \n",
    "    ans = re.sub('<.*?>', '', ans, flags=re.S).strip()\n",
    "    ans = re.sub('an\\s|the\\s|a\\s', '', ans, flags=re.S|re.IGNORECASE).strip()\n",
    "    \n",
    "    ques = re.sub('&rsquo;|&mdash;|&nbsp|&ldquo;|&rdquo;', '', ques, flags=re.S).strip()\n",
    "    ans = re.sub('&rsquo;|&mdash;|&nbsp;|&ldquo;|&rdquo;', '', ans, flags=re.S).strip()\n",
    "    \n",
    "    data[ques] = ans\n",
    "    \n",
    "with open('riddle.json', 'w') as f:\n",
    "    json.dump(data, f, indent = 4)\n",
    "    \n"
   ]
  },
  {
   "cell_type": "code",
   "execution_count": null,
   "metadata": {},
   "outputs": [],
   "source": [
    "#     c.scrap('regex', 'value')\n",
    "#     c.strip_html('regex', 'value')\n",
    "\n",
    "#&rsquo;='\n",
    "#&mdash;=—"
   ]
  },
  {
   "cell_type": "code",
   "execution_count": null,
   "metadata": {},
   "outputs": [],
   "source": []
  }
 ],
 "metadata": {
  "kernelspec": {
   "display_name": "Python 3",
   "language": "python",
   "name": "python3"
  },
  "language_info": {
   "codemirror_mode": {
    "name": "ipython",
    "version": 3
   },
   "file_extension": ".py",
   "mimetype": "text/x-python",
   "name": "python",
   "nbconvert_exporter": "python",
   "pygments_lexer": "ipython3",
   "version": "3.7.4"
  }
 },
 "nbformat": 4,
 "nbformat_minor": 2
}
