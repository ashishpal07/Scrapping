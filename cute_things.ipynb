{
 "cells": [
  {
   "cell_type": "code",
   "execution_count": 17,
   "metadata": {},
   "outputs": [],
   "source": [
    "import requests\n",
    "import re\n",
    "import pandas as pd\n",
    "\n",
    "r = requests.get(\"https://lifehacks.io/cute-things-to-say-to-your-girlfriend/\").text\n",
    "quotes = []\n",
    "n = 0\n",
    "for i in r.split('<blockquote>'):\n",
    "    quote = re.search('<p>(.*?)<',i).group(1)\n",
    "    \n",
    "    if not re.search('[a-zA-Z]',quote):\n",
    "        continue\n",
    "    elif quote == '&nbsp;':\n",
    "        continue\n",
    "\n",
    "    quotes.append(quote)\n",
    "\n",
    "df = pd.DataFrame({'Love-Quotes':quotes})\n",
    "df.to_excel('cute_things.xlsx',index=False)\n",
    "    \n"
   ]
  },
  {
   "cell_type": "code",
   "execution_count": null,
   "metadata": {},
   "outputs": [],
   "source": []
  }
 ],
 "metadata": {
  "kernelspec": {
   "display_name": "Python 3",
   "language": "python",
   "name": "python3"
  },
  "language_info": {
   "codemirror_mode": {
    "name": "ipython",
    "version": 3
   },
   "file_extension": ".py",
   "mimetype": "text/x-python",
   "name": "python",
   "nbconvert_exporter": "python",
   "pygments_lexer": "ipython3",
   "version": "3.7.4"
  }
 },
 "nbformat": 4,
 "nbformat_minor": 2
}
