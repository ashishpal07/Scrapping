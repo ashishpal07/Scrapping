{
 "cells": [
  {
   "cell_type": "code",
   "execution_count": 7,
   "metadata": {},
   "outputs": [],
   "source": [
    "import requests\n",
    "import re\n",
    "import pandas as pd\n",
    "\n",
    "r = requests.get(\"https://truelovewords.com/cute-valentines-day-love-quotes-for-her/\").text\n",
    "\n",
    "pattern = re.compile(r'<li><span style=\"color: #ff0000;\">&#x2665;</span>\\s*(.*?)</li>')\n",
    "matches = pattern.finditer(r)\n",
    "\n",
    "d = {'valentines quote for her':[]}\n",
    "for match in matches:\n",
    "    q = match.group(1)\n",
    "    q = re.sub('&#8217;|&#8217;',\"\", q, flags=re.S).strip()\n",
    "    d[\"valentines quote for her\"].append(q)\n",
    "    \n",
    "df = pd.DataFrame(d)\n",
    "df.to_excel('valentines.xlsx', index=False)\n"
   ]
  },
  {
   "cell_type": "code",
   "execution_count": null,
   "metadata": {},
   "outputs": [],
   "source": []
  },
  {
   "cell_type": "code",
   "execution_count": null,
   "metadata": {},
   "outputs": [],
   "source": []
  },
  {
   "cell_type": "code",
   "execution_count": null,
   "metadata": {},
   "outputs": [],
   "source": []
  }
 ],
 "metadata": {
  "kernelspec": {
   "display_name": "Python 3",
   "language": "python",
   "name": "python3"
  },
  "language_info": {
   "codemirror_mode": {
    "name": "ipython",
    "version": 3
   },
   "file_extension": ".py",
   "mimetype": "text/x-python",
   "name": "python",
   "nbconvert_exporter": "python",
   "pygments_lexer": "ipython3",
   "version": "3.7.4"
  }
 },
 "nbformat": 4,
 "nbformat_minor": 2
}
