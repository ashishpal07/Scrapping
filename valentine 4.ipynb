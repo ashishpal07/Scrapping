{
 "cells": [
  {
   "cell_type": "code",
   "execution_count": 13,
   "metadata": {},
   "outputs": [],
   "source": [
    "import requests\n",
    "import re\n",
    "import pandas as pd\n",
    "\n",
    "headers = {\n",
    "    'user-agent': 'Mozilla/5.0 (Windows NT 10.0; Win64; x64) AppleWebKit/537.36 (KHTML, like Gecko) Chrome/87.0.4280.141 Safari/537.36',\n",
    "}\n",
    "\n",
    "\n",
    "r = requests.get(\"https://www.proflowers.com/blog/valentines-day-quotes\", headers=headers, timeout=60).text\n",
    "\n",
    "pattern = re.compile(r'<li>(.*?)\\s*–')\n",
    "matches = pattern.finditer(r)\n",
    "\n",
    "d = {'love quotes velentine':[]}\n",
    "\n",
    "for match in matches:\n",
    "    quotes = match.group(1)\n",
    "    quotes = re.sub('“|”',\"\",quotes,flags=re.S)\n",
    "    quotes = re.sub('-|—|…',\" \",quotes,flags=re.S)\n",
    "    \n",
    "    d['love quotes velentine'].append(quotes)\n",
    "    \n",
    "df = pd.DataFrame(d)\n",
    "df.to_excel('valentines4.xlsx', index=False)\n",
    "                     "
   ]
  },
  {
   "cell_type": "code",
   "execution_count": null,
   "metadata": {},
   "outputs": [],
   "source": []
  }
 ],
 "metadata": {
  "kernelspec": {
   "display_name": "Python 3",
   "language": "python",
   "name": "python3"
  },
  "language_info": {
   "codemirror_mode": {
    "name": "ipython",
    "version": 3
   },
   "file_extension": ".py",
   "mimetype": "text/x-python",
   "name": "python",
   "nbconvert_exporter": "python",
   "pygments_lexer": "ipython3",
   "version": "3.7.4"
  }
 },
 "nbformat": 4,
 "nbformat_minor": 2
}
