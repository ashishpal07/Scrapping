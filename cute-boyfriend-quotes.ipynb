{
 "cells": [
  {
   "cell_type": "code",
   "execution_count": 36,
   "metadata": {},
   "outputs": [],
   "source": [
    "import requests\n",
    "import re\n",
    "import pandas as pd\n",
    "\n",
    "l = []\n",
    "r = requests.get('https://www.momjunction.com/articles/romantic-love-messages-for-wife_00435384/').text\n",
    "pattern = re.findall(r'</strong>(.*?)<',r,re.S)\n",
    "\n",
    "for i in pattern:\n",
    "    if not re.search('[a-zA-Z]',i):\n",
    "        continue\n",
    "    l.append(i)\n",
    "    \n",
    "df = pd.DataFrame({'Love Quote Boyfreind':l})\n",
    "df.to_excel('cute-boyfriend-quotes.xlsx',index=False)\n",
    "\n",
    "\n"
   ]
  },
  {
   "cell_type": "code",
   "execution_count": null,
   "metadata": {},
   "outputs": [],
   "source": []
  }
 ],
 "metadata": {
  "kernelspec": {
   "display_name": "Python 3",
   "language": "python",
   "name": "python3"
  },
  "language_info": {
   "codemirror_mode": {
    "name": "ipython",
    "version": 3
   },
   "file_extension": ".py",
   "mimetype": "text/x-python",
   "name": "python",
   "nbconvert_exporter": "python",
   "pygments_lexer": "ipython3",
   "version": "3.7.4"
  }
 },
 "nbformat": 4,
 "nbformat_minor": 2
}
